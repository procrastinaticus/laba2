{
 "cells": [
  {
   "cell_type": "markdown",
   "metadata": {},
   "source": [
    "# Лабораторна робота 1\n",
    "### Виконав ФБ-21 Захожий Микола\n",
    "<b> Мета роботи:</b> ознайомитися з основними кроками по роботі з даними – workflow від постановки задачі до написання пояснювальної записки, зрозуміти постановку задачі та природу даних, над якими виконується аналітичні операції\n",
    "\n",
    "1. Для кожної із адміністративних одиниць України завантажити текстові структуровані файли, що містять значення VHI-індексу. Ця процедура має бути автоматизована, параметром процедури має бути індекс (номер) області. При зберіганні файлу до його імені потрібно додати дату та час завантаження;"
   ]
  },
  {
   "cell_type": "code",
   "execution_count": 133,
   "metadata": {},
   "outputs": [],
   "source": [
    "import os\n",
    "import pandas as pd\n",
    "import urllib.request\n",
    "from datetime import datetime"
   ]
  },
  {
   "cell_type": "code",
   "execution_count": 77,
   "metadata": {},
   "outputs": [
    {
     "name": "stdout",
     "output_type": "stream",
     "text": [
      "VHI was downloaded in /home/kunopohui/Downloads/csv/vhi_id_1_2024-04-05_12-32.csv\n",
      "VHI was downloaded in /home/kunopohui/Downloads/csv/vhi_id_2_2024-04-05_12-32.csv\n",
      "VHI was downloaded in /home/kunopohui/Downloads/csv/vhi_id_3_2024-04-05_12-32.csv\n",
      "VHI was downloaded in /home/kunopohui/Downloads/csv/vhi_id_4_2024-04-05_12-32.csv\n",
      "VHI was downloaded in /home/kunopohui/Downloads/csv/vhi_id_5_2024-04-05_12-32.csv\n",
      "VHI was downloaded in /home/kunopohui/Downloads/csv/vhi_id_6_2024-04-05_12-32.csv\n",
      "VHI was downloaded in /home/kunopohui/Downloads/csv/vhi_id_7_2024-04-05_12-32.csv\n",
      "VHI was downloaded in /home/kunopohui/Downloads/csv/vhi_id_8_2024-04-05_12-32.csv\n",
      "VHI was downloaded in /home/kunopohui/Downloads/csv/vhi_id_9_2024-04-05_12-32.csv\n",
      "VHI was downloaded in /home/kunopohui/Downloads/csv/vhi_id_10_2024-04-05_12-33.csv\n",
      "VHI was downloaded in /home/kunopohui/Downloads/csv/vhi_id_11_2024-04-05_12-33.csv\n",
      "VHI was downloaded in /home/kunopohui/Downloads/csv/vhi_id_12_2024-04-05_12-33.csv\n",
      "VHI was downloaded in /home/kunopohui/Downloads/csv/vhi_id_13_2024-04-05_12-33.csv\n",
      "VHI was downloaded in /home/kunopohui/Downloads/csv/vhi_id_14_2024-04-05_12-33.csv\n",
      "VHI was downloaded in /home/kunopohui/Downloads/csv/vhi_id_15_2024-04-05_12-33.csv\n",
      "VHI was downloaded in /home/kunopohui/Downloads/csv/vhi_id_16_2024-04-05_12-33.csv\n",
      "VHI was downloaded in /home/kunopohui/Downloads/csv/vhi_id_17_2024-04-05_12-33.csv\n",
      "VHI was downloaded in /home/kunopohui/Downloads/csv/vhi_id_18_2024-04-05_12-33.csv\n",
      "VHI was downloaded in /home/kunopohui/Downloads/csv/vhi_id_19_2024-04-05_12-33.csv\n",
      "VHI was downloaded in /home/kunopohui/Downloads/csv/vhi_id_20_2024-04-05_12-33.csv\n",
      "VHI was downloaded in /home/kunopohui/Downloads/csv/vhi_id_21_2024-04-05_12-33.csv\n",
      "VHI was downloaded in /home/kunopohui/Downloads/csv/vhi_id_22_2024-04-05_12-33.csv\n",
      "VHI was downloaded in /home/kunopohui/Downloads/csv/vhi_id_23_2024-04-05_12-33.csv\n",
      "VHI was downloaded in /home/kunopohui/Downloads/csv/vhi_id_24_2024-04-05_12-33.csv\n",
      "VHI was downloaded in /home/kunopohui/Downloads/csv/vhi_id_25_2024-04-05_12-33.csv\n",
      "VHI was downloaded in /home/kunopohui/Downloads/csv/vhi_id_26_2024-04-05_12-33.csv\n",
      "VHI was downloaded in /home/kunopohui/Downloads/csv/vhi_id_27_2024-04-05_12-33.csv\n"
     ]
    }
   ],
   "source": [
    "\n",
    "path = '/home/kunopohui/Downloads/csv'\n",
    "def get_data(province_id):\n",
    "    url = f\"https://www.star.nesdis.noaa.gov/smcd/emb/vci/VH/get_TS_admin.php?country=UKR&provinceID={province_id}&year1=1981&year2=2024&type=Mean\"\n",
    "    vhi_url = urllib.request.urlopen(url)\n",
    "\n",
    "    now = datetime.now().strftime('%Y-%m-%d_%H-%M')\n",
    "    # path = '/home/kunopohui/Downloads/csv'\n",
    "    filename = f'vhi_id_{province_id}_{now}.csv'\n",
    "    filepath = f'{path}/{filename}'\n",
    "    with open(filepath, 'wb') as out:\n",
    "        out.write(vhi_url.read())\n",
    "    print(f\"VHI was downloaded in {filepath}\")\n",
    "\n",
    "    return\n",
    "\n",
    "for i in range(1,28):\n",
    "    get_data(i)"
   ]
  },
  {
   "cell_type": "code",
   "execution_count": 80,
   "metadata": {},
   "outputs": [],
   "source": [
    "state_id_name = {\n",
    "        1: 'Vinnytsia', 13: 'Mykolaiv',\n",
    "        2: 'Volyn', 14: 'Odesa',\n",
    "        3: 'Dnipropetrovska', 15: 'Poltavska',\n",
    "        4: 'Donetsk', 16: 'Rivne',\n",
    "        5: 'Zhytomyr', 17: 'Sumy',\n",
    "        6: 'Zakarpattia', 18: 'Ternopil',\n",
    "        7: 'Zaporizhzhya', 19: 'Kharkiv',\n",
    "        8: 'Ivano-Frankivsk', 20: 'Kherson',\n",
    "        9: 'Kyiv', 21: 'Khmelnytsky',\n",
    "        10: 'Kirovohrad', 22: 'Cherkasy',\n",
    "        11: 'Luhansk', 23: 'Chernivtsi',\n",
    "        12: 'Lviv', 24: 'Chernihiv',\n",
    "        25: 'Republic of Crimea'\n",
    "}\n",
    "\n"
   ]
  },
  {
   "cell_type": "markdown",
   "metadata": {},
   "source": [
    "2. Зчитати завантажені текстові файли у фрейм (детальніше про роботу із фреймами буде розказано у подальших лабораторних роботах). Імена стовбців фрейму мають бути змістовними та легкими для сприйняття (не повинно бути спеціалізованих символів, пробілів тощо). Ця задача має бути реалізована у вигляді окремої процедури, яка на вхід приймає шлях до директорії, в якій зберігаються файли;"
   ]
  },
  {
   "cell_type": "code",
   "execution_count": 98,
   "metadata": {},
   "outputs": [
    {
     "name": "stdout",
     "output_type": "stream",
     "text": [
      "       Year  Week    SMN     SMT    VCI    TCI    VHI  area\n",
      "0      1982   1.0  0.053  260.31  45.01  39.46  42.23     1\n",
      "1      1982   2.0  0.054  262.29  46.83  31.75  39.29     1\n",
      "2      1982   3.0  0.055  263.82  48.13  27.24  37.68     1\n",
      "3      1982   4.0  0.053  265.33  46.09  23.91  35.00     1\n",
      "4      1982   5.0  0.050  265.66  41.46  26.65  34.06     1\n",
      "...     ...   ...    ...     ...    ...    ...    ...   ...\n",
      "57964  2024   9.0  0.159  275.16  72.78  20.87  46.83    27\n",
      "57965  2024  10.0  0.172  277.53  72.73  19.51  46.12    27\n",
      "57966  2024  11.0  0.180  278.93  68.66  21.11  44.89    27\n",
      "57967  2024  12.0  0.183  279.90  62.37  28.02  45.19    27\n",
      "57968  2024  13.0  0.190  281.04  57.21  34.39  45.80    27\n",
      "\n",
      "[53675 rows x 8 columns]\n"
     ]
    }
   ],
   "source": [
    "def read_and_create_data_frame(path):\n",
    "    \n",
    "    out_df = pd.DataFrame()\n",
    "\n",
    "    csv_files = os.listdir('/home/kunopohui/Downloads/csv')\n",
    "\n",
    "    frames = []\n",
    "\n",
    "    headers = ['Year', 'Week', 'SMN', 'SMT', 'VCI', 'TCI', 'VHI', 'empty']\n",
    "\n",
    "\n",
    "    for file in range(len(csv_files)):\n",
    "        file_path = os.path.join(path, csv_files[file])\n",
    "        df = pd.read_csv(file_path , header = 1, names = headers)\n",
    "        \n",
    "        df = df.drop(df.loc[df['VHI'] == -1].index)\n",
    "        df['Year'] = df['Year'].str.replace('<tt><pre>', '')\n",
    "        df = df[~df['Year'].str.contains('</pre></tt>')]\n",
    "        df['area'] = file + 1\n",
    "        df.drop('empty', axis=1, inplace=True)\n",
    "        frames.append(df)\n",
    "    \n",
    "    out_df = pd.concat(frames).drop_duplicates().reset_index(drop=True)\n",
    "    out_df.drop([22, 12])\n",
    "    out_df = out_df.loc[(out_df.area != 12) & (out_df.area != 20)]  \n",
    "    return out_df\n",
    " \n",
    "df = read_and_create_data_frame('/home/kunopohui/Downloads/csv')\n",
    "print(df)"
   ]
  },
  {
   "cell_type": "markdown",
   "metadata": {},
   "source": [
    "3. Реалізувати процедуру, яка змінить індекси областей, які використані на порталі NOAA на потрібні."
   ]
  },
  {
   "cell_type": "code",
   "execution_count": 153,
   "metadata": {},
   "outputs": [
    {
     "name": "stdout",
     "output_type": "stream",
     "text": [
      "       Year  Week    SMN     SMT    VCI    TCI    VHI      area\n",
      "0      1982   1.0  0.053  260.31  45.01  39.46  42.23  Cherkasy\n",
      "1      1982   2.0  0.054  262.29  46.83  31.75  39.29  Cherkasy\n",
      "2      1982   3.0  0.055  263.82  48.13  27.24  37.68  Cherkasy\n",
      "3      1982   4.0  0.053  265.33  46.09  23.91  35.00  Cherkasy\n",
      "4      1982   5.0  0.050  265.66  41.46  26.65  34.06  Cherkasy\n",
      "...     ...   ...    ...     ...    ...    ...    ...       ...\n",
      "57964  2024   9.0  0.159  275.16  72.78  20.87  46.83  Zhytomyr\n",
      "57965  2024  10.0  0.172  277.53  72.73  19.51  46.12  Zhytomyr\n",
      "57966  2024  11.0  0.180  278.93  68.66  21.11  44.89  Zhytomyr\n",
      "57967  2024  12.0  0.183  279.90  62.37  28.02  45.19  Zhytomyr\n",
      "57968  2024  13.0  0.190  281.04  57.21  34.39  45.80  Zhytomyr\n",
      "\n",
      "[53675 rows x 8 columns]\n"
     ]
    }
   ],
   "source": [
    "def NewIDS(df):\n",
    "    province_indexes = {1: 22, 2: 24, 3: 23, 4: 25, 5: 3, 6: 4, 7: 8, 8: 19, 9: 20, 10: 21, 11: 9, 13: 10, 14: 11, 15: 12, 16: 13, 17: 14, 18: 15, 19: 16, 21: 17, 22: 18, 23: 6, 24: 1, 25: 2, 26: 7, 27: 5}\n",
    "    df.replace({'area':province_indexes}, inplace = True)\n",
    "    df['area'] = df['area'].replace(state_id_name)\n",
    "    return df\n",
    "\n",
    "print(NewIDS(df))\n",
    "\n",
    "\n",
    "\n"
   ]
  },
  {
   "cell_type": "markdown",
   "metadata": {},
   "source": [
    "Реалізувати процедури для формування вибірок наступного виду:\n",
    "Ряд VHI для області за рік, пошук екстремумів (min та max);"
   ]
  },
  {
   "cell_type": "code",
   "execution_count": 135,
   "metadata": {},
   "outputs": [
    {
     "name": "stdout",
     "output_type": "stream",
     "text": [
      "Cherkasy, max: 72.32, min:36.12 \n",
      "Chernihiv, max: 78.8, min:37.84 \n",
      "Chernivtsi, max: 57.39, min:37.64 \n",
      "Republic of Crimea, max: 60.93, min:34.83 \n",
      "Dnipropetrovska, max: 61.06, min:39.52 \n",
      "Donetsk, max: 61.99, min:38.31 \n",
      "Ivano-Frankivsk, max: 56.41, min:37.34 \n",
      "Kharkiv, max: 67.19, min:38.47 \n",
      "Kherson, max: 54.81, min:35.7 \n",
      "Khmelnytsky, max: 62.81, min:36.56 \n",
      "Kyiv, max: 65.14, min:30.32 \n",
      "Kirovohrad, max: 73.98, min:36.45 \n",
      "Luhansk, max: 63.71, min:41.93 \n",
      "Lviv, max: 56.28, min:37.65 \n",
      "Mykolaiv, max: 58.87, min:38.86 \n",
      "Odesa, max: 53.07, min:32.11 \n",
      "Poltavska, max: 80.55, min:37.74 \n",
      "Rivne, max: 64.19, min:33.37 \n",
      "Sumy, max: 81.96, min:40.3 \n",
      "Ternopil, max: 61.82, min:36.58 \n",
      "Zakarpattia, max: 53.83, min:38.47 \n",
      "Vinnytsia, max: 56.9, min:32.28 \n",
      "Volyn, max: 61.15, min:38.38 \n",
      "Zaporizhzhya, max: 61.73, min:36.74 \n",
      "Zhytomyr, max: 63.81, min:30.36 \n"
     ]
    }
   ],
   "source": [
    "def find_max_vhi(df, area, year):\n",
    "\n",
    "  filtered_df = df[ (df['area'] == area) & (df['Year'] == year) ]\n",
    "  if filtered_df.empty:\n",
    "    return None  \n",
    "  return filtered_df['VHI'].max()\n",
    "\n",
    "\n",
    "def find_min_vhi(df, area, year):\n",
    "\n",
    "  filtered_df = df[ (df['area'] == area) & (df['Year'] == year) ]\n",
    "  if filtered_df.empty:\n",
    "    return None  \n",
    "  return filtered_df['VHI'].min()\n",
    "\n",
    "def analyze_vhi(df, year):\n",
    "\n",
    "  for area in df['area'].unique():\n",
    "    max_vhi = find_max_vhi(df.copy(), area, year) \n",
    "    min_vhi = find_min_vhi(df.copy(), area, year) \n",
    "    print(f'{area}, max: {max_vhi}, min:{min_vhi} ')\n",
    "\n",
    "analyze_vhi(df, '2022')\n"
   ]
  },
  {
   "cell_type": "markdown",
   "metadata": {},
   "source": [
    "Ряд VHI за вказаний діапазон років для вказаних областей;\n",
    "виявити роки, протягом яких екстремальні посухи торкнулися\n",
    "більше вказаного відсотка областей по Україні (20% областей -\n",
    "5 областей з 25);\n",
    "Аналогічно для помірних посух"
   ]
  },
  {
   "cell_type": "code",
   "execution_count": 188,
   "metadata": {},
   "outputs": [
    {
     "name": "stdout",
     "output_type": "stream",
     "text": [
      "['1982', '1983', '1984', '1985', '1986', '1987', '1988', '1989', '1990', '1991', '1992', '1993', '1994', '1995', '1996', '1997', '1998', '1999', '2000', '2001', '2002', '2003', '2005', '2006', '2007', '2008', '2009', '2010', '2011', '2012', '2013', '2014', '2015', '2016', '2017', '2018', '2019', '2020', '2021', '2022', '2023']\n",
      "['2007']\n"
     ]
    }
   ],
   "source": [
    "def drought_years2(df, state_percent, drought_percent_less, drought_percent_more):\n",
    "\n",
    "  drought = df[(df.VHI >= drought_percent_less) & (df.VHI <= drought_percent_more)]\n",
    "  state_number = (state_percent/100)*df['area'].nunique()\n",
    "  yearslist = []\n",
    "  for year in df['Year'].unique():\n",
    "    drought_per_year = drought[drought['Year'] == year ]  \n",
    "    drought_area_number = len(drought_per_year['area'].unique())\n",
    "    # print(drought_area_number)\n",
    "    if drought_area_number >=state_number:\n",
    "       yearslist.append(year)\n",
    "  return yearslist\n",
    "\n",
    "print(drought_years2(df, 20, 15, 35))\n",
    "print(drought_years2(df, 20, 0, 15))"
   ]
  }
 ],
 "metadata": {
  "kernelspec": {
   "display_name": "Python 3",
   "language": "python",
   "name": "python3"
  },
  "language_info": {
   "codemirror_mode": {
    "name": "ipython",
    "version": 3
   },
   "file_extension": ".py",
   "mimetype": "text/x-python",
   "name": "python",
   "nbconvert_exporter": "python",
   "pygments_lexer": "ipython3",
   "version": "3.11.8"
  }
 },
 "nbformat": 4,
 "nbformat_minor": 2
}
